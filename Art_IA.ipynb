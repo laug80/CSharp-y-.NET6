{
  "nbformat": 4,
  "nbformat_minor": 0,
  "metadata": {
    "colab": {
      "provenance": [],
      "authorship_tag": "ABX9TyM9fmyTYF6QuDVoqaIpdkOq",
      "include_colab_link": true
    },
    "kernelspec": {
      "name": "python3",
      "display_name": "Python 3"
    },
    "language_info": {
      "name": "python"
    }
  },
  "cells": [
    {
      "cell_type": "markdown",
      "metadata": {
        "id": "view-in-github",
        "colab_type": "text"
      },
      "source": [
        "<a href=\"https://colab.research.google.com/github/laug80/CSharp-y-.NET6/blob/main/Art_IA.ipynb\" target=\"_parent\"><img src=\"https://colab.research.google.com/assets/colab-badge.svg\" alt=\"Open In Colab\"/></a>"
      ]
    },
    {
      "source": [
        "from google.colab import drive\n",
        "drive.mount('/content/drive')\n",
        "\n",
        "from PIL import Image\n",
        "\n",
        "import os\n",
        "\n",
        "# Ensure the following file paths are correct and the files exist in your Drive\n",
        "file_path1 = '/content/drive/MyDrive/ElGrito.jpg'\n",
        "file_path2 = '/content/drive/MyDrive/image2.jpg' # Replace with the actual name of your second image\n",
        "\n",
        "if os.path.exists(file_path1) and os.path.exists(file_path2):\n",
        "  imagen1 = Image.open(file_path1)\n",
        "  imagen2 = Image.open(file_path2)\n",
        "\n",
        "  # Get the size of the images\n",
        "  width1, height1 = imagen1.size\n",
        "  width2, height2 = imagen2.size\n",
        "\n",
        "  # Create a new image with the combined width and the maximum height\n",
        "  combined_width = width1 + width2\n",
        "  combined_height = max(height1, height2)\n",
        "  combined_image = Image.new('RGB', (combined_width, combined_height))\n",
        "\n",
        "  # Paste the images onto the combined image\n",
        "  combined_image.paste(imagen1, (0, 0))\n",
        "  combined_image.paste(imagen2, (width1, 0))\n",
        "\n",
        "  # Show and save the combined image\n",
        "  combined_image.show()\n",
        "  combined_image.save('/content/drive/MyDrive/combined_image.jpg')\n",
        "else:\n",
        "  print(f\"Error: One or both files not found.\")"
      ],
      "cell_type": "code",
      "metadata": {
        "colab": {
          "base_uri": "https://localhost:8080/"
        },
        "id": "PGnwoILVPfT7",
        "outputId": "0cc62c31-f8d4-470c-c10a-51f656d63b2a"
      },
      "execution_count": 26,
      "outputs": [
        {
          "output_type": "stream",
          "name": "stdout",
          "text": [
            "Drive already mounted at /content/drive; to attempt to forcibly remount, call drive.mount(\"/content/drive\", force_remount=True).\n",
            "Error: One or both files not found.\n"
          ]
        }
      ]
    },
    {
      "source": [
        "from google.colab import drive\n",
        "drive.mount('/content/drive')\n",
        "\n",
        "#Import the Image module from the PIL library\n",
        "from PIL import Image\n",
        "\n",
        "# Ensure the following file path is correct and the file exists in your Drive\n",
        "imagen = Image.open('/content/drive/MyDrive/Estrellas.jpg') # Check file name for typos and capitalization\n",
        "imagen.show()\n",
        "imagen.save('/content/drive/MyDrive/Estrellas.jpg')\n",
        "\n",
        "#Import the Image module from the PIL library\n",
        "from PIL import Image\n",
        "# Ensure the following file path is correct and the file exists in your Drive\n",
        "imagen = Image.open('/content/drive/MyDrive/ElGrito.jpg') # Check file name for typos and capitalization\n",
        "imagen.show()\n",
        "imagen.save('/content/drive/MyDrive/ElGrito.jpg')"
      ],
      "cell_type": "code",
      "metadata": {
        "colab": {
          "base_uri": "https://localhost:8080/"
        },
        "id": "mSxRrIieOEtE",
        "outputId": "f39da0f6-d3d5-46f3-e584-fd1366c1c5a7"
      },
      "execution_count": 27,
      "outputs": [
        {
          "output_type": "stream",
          "name": "stdout",
          "text": [
            "Drive already mounted at /content/drive; to attempt to forcibly remount, call drive.mount(\"/content/drive\", force_remount=True).\n"
          ]
        }
      ]
    },
    {
      "cell_type": "markdown",
      "source": [],
      "metadata": {
        "id": "v1gH9Vl_Nfah"
      }
    }
  ]
}